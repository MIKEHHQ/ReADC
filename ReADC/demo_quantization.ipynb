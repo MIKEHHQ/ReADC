{
  "cells": [
    {
      "cell_type": "code",
      "execution_count": 1,
      "metadata": {},
      "outputs": [
        {
          "name": "stderr",
          "output_type": "stream",
          "text": [
            "/home/hqhong/anaconda3/envs/neurosim/lib/python3.8/site-packages/tqdm/auto.py:21: TqdmWarning: IProgress not found. Please update jupyter and ipywidgets. See https://ipywidgets.readthedocs.io/en/stable/user_install.html\n",
            "  from .autonotebook import tqdm as notebook_tqdm\n"
          ]
        },
        {
          "name": "stdout",
          "output_type": "stream",
          "text": [
            "[0.16666667 0.5        0.83333333]\n",
            "[0.         0.33333333 0.66666667]\n"
          ]
        },
        {
          "data": {
            "image/png": "[encoded data removed]",
            "text/plain": [
              "<Figure size 640x480 with 1 Axes>"
            ]
          },
          "metadata": {},
          "output_type": "display_data"
        }
      ],
      "source": [
        "import numpy as np\n",
        "import torch\n",
        "\n",
        "#  ADC behavior model supporting uniform and nonuniform quantization of torch NN metrix (Parallel Optimized Version)\n",
        "def ReNonLinearQuantizeOut(input,ADCprecision,bound=None, out=None):\n",
        "    if bound is None:\n",
        "        bound = [0.031, 0.062, 0.094, 0.125, 0.156, 0.188, 0.219, 0.25, 0.281, 0.312, 0.344, 0.375, 0.406, 0.438, 0.469, 0.5, 0.531, 0.562, 0.594, 0.625, 0.656, 0.688, 0.719, 0.75, 0.781, 0.812, 0.844, 0.875, 0.906, 0.938, 0.969, 1.0]\n",
        "    else:\n",
        "        bound = bound\n",
        "    \n",
        "    if out is None:\n",
        "        out = [0.016, 0.047, 0.078, 0.109, 0.141, 0.172, 0.203, 0.234, 0.266, 0.297, 0.328, 0.359, 0.391, 0.422, 0.453, 0.484, 0.516, 0.547, 0.578, 0.609, 0.641, 0.672, 0.703, 0.734, 0.766, 0.797, 0.828, 0.859, 0.891, 0.922, 0.953, 0.984]\n",
        "    else:\n",
        "        out = out\n",
        "    minQ = torch.min(input)\n",
        "    delta = torch.max(input) - minQ\n",
        "    bound = torch.tensor([torch.finfo(torch.float32).min] + bound + [torch.finfo(torch.float32).max], device=input.device, dtype=input.dtype) * delta + minQ\n",
        "    out = torch.tensor(out + [1], device=input.device, dtype=torch.float64) * delta + minQ\n",
        "    idx = torch.searchsorted(bound, input, right=True)-1\n",
        "    outputs = torch.take(out, idx)\n",
        "    \n",
        "    return outputs.to(input.dtype)\n",
        "\n",
        "def LinearQuantizeOut(x, bit):\n",
        "    minQ = torch.min(x)\n",
        "    delta = torch.max(x) - torch.min(x)\n",
        "    y = x.clone()\n",
        "    if delta > 0:\n",
        "        stepSizeRatio = 2.**(-bit)\n",
        "        stepSize = stepSizeRatio*delta.item()\n",
        "        index = torch.clamp(torch.floor((x-minQ.item())/stepSize), 0, (2.**(bit)-1))\n",
        "        y = index*stepSize + minQ.item()\n",
        "\n",
        "    return y\n",
        "\n",
        "# ADCprecision -> Boundary (Could be moved into the model) \n",
        "bit = 2\n",
        "bound = np.linspace(0, 1, 2**bit)\n",
        "out = (bound[:-1] + bound[1:]) / 2 \n",
        "bound = bound[1:]-out[0]\n",
        "out = out -out[0]\n",
        "print(bound)\n",
        "print(out)\n",
        "\n",
        "bound = bound.tolist()\n",
        "out = out.tolist()\n",
        "\n",
        "# Sample\n",
        "numbers = np.linspace(0, 1, 100)\n",
        "numbers = torch.tensor(numbers)\n",
        "\n",
        "Re_out = ReNonLinearQuantizeOut(numbers,bit,bound,out)\n",
        "out = LinearQuantizeOut(numbers,bit)\n",
        "\n",
        "# draw\n",
        "import matplotlib.pyplot as plt\n",
        "plt.plot(numbers, out, 'ro', label='Neurosim')\n",
        "plt.plot(numbers, Re_out, 'bo', label='ReADC Simulator')\n",
        "plt.xlabel('Input')\n",
        "plt.ylabel('Output')\n",
        "plt.legend()\n",
        "plt.show()"
      ]
    },
    {
      "cell_type": "code",
      "execution_count": 5,
      "metadata": {
        "vscode": {
          "languageId": "bat"
        }
      },
      "outputs": [
        {
          "name": "stdout",
          "output_type": "stream",
          "text": [
            "ReADC Quantization Test Suite\n",
            "========================================\n",
            "Testing linear quantization...\n",
            "  2-bit: 4 unique levels (max: 4)\n",
            "  3-bit: 8 unique levels (max: 8)\n",
            "  4-bit: 16 unique levels (max: 16)\n",
            "  5-bit: 32 unique levels (max: 32)\n",
            "✓ Linear quantization tests passed\n",
            "\n",
            "Testing adaptive quantization...\n",
            "✓ Adaptive quantization tests passed\n",
            "\n",
            "Testing Lloyd-Max optimization...\n",
            "  Optimized 8 levels with MSE optimization\n",
            "✓ Lloyd-Max optimization tests passed\n",
            "\n",
            "Testing multi-ADC quantization...\n",
            "✓ Multi-ADC quantization tests passed\n",
            "\n",
            "Testing super-resolution quantization...\n",
            "  Super-resolution differences: 3 out of 100 points\n",
            "✓ Super-resolution quantization tests passed\n",
            "\n",
            "Testing noise robustness...\n",
            "  Testing with 1.0% noise...\n",
            "    Uniform MSE: 0.001227\n",
            "    Adaptive MSE: 0.000261\n",
            "    Super-Resolution MSE: 0.000163\n",
            "    SR improvement over adaptive: 37.53%\n",
            "  Testing with 5.0% noise...\n",
            "    Uniform MSE: 0.001359\n",
            "    Adaptive MSE: 0.000355\n",
            "    Super-Resolution MSE: 0.000249\n",
            "    SR improvement over adaptive: 29.92%\n",
            "✓ Noise robustness tests passed\n",
            "\n",
            "Testing quantization accuracy...\n",
            "  Uniform MSE: 0.001204\n",
            "  Adaptive MSE: 0.000258\n",
            "  Improvement: 78.6%\n",
            "✓ Quantization accuracy tests passed\n",
            "\n",
            "========================================\n",
            "🎉 All tests passed successfully!\n"
          ]
        }
      ],
      "source": [
        "%run test_readc.py"
      ]
    }
  ],
  "metadata": {
    "kernelspec": {
      "display_name": "neurosim",
      "language": "python",
      "name": "python3"
    },
    "language_info": {
      "codemirror_mode": {
        "name": "ipython",
        "version": 3
      },
      "file_extension": ".py",
      "mimetype": "text/x-python",
      "name": "python",
      "nbconvert_exporter": "python",
      "pygments_lexer": "ipython3",
      "version": "3.8.0"
    }
  },
  "nbformat": 4,
  "nbformat_minor": 2
}
