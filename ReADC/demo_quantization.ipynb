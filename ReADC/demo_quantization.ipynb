{
  "cells": [
    {
      "cell_type": "code",
      "execution_count": 1,
      "metadata": {},
      "outputs": [
        {
          "ename": "NameError",
          "evalue": "name 'np' is not defined",
          "output_type": "error",
          "traceback": [
            "\u001b[0;31m---------------------------------------------------------------------------\u001b[0m",
            "\u001b[0;31mNameError\u001b[0m                                 Traceback (most recent call last)",
            "Cell \u001b[0;32mIn[1], line 2\u001b[0m\n\u001b[1;32m      1\u001b[0m \u001b[38;5;66;03m# Generate sample data and compare quantization methods\u001b[39;00m\n\u001b[0;32m----> 2\u001b[0m \u001b[43mnp\u001b[49m\u001b[38;5;241m.\u001b[39mrandom\u001b[38;5;241m.\u001b[39mseed(\u001b[38;5;241m42\u001b[39m)\n\u001b[1;32m      3\u001b[0m sample_data \u001b[38;5;241m=\u001b[39m np\u001b[38;5;241m.\u001b[39mlinspace(\u001b[38;5;241m0\u001b[39m, \u001b[38;5;241m1\u001b[39m, \u001b[38;5;241m100\u001b[39m)\n\u001b[1;32m      4\u001b[0m input_tensor \u001b[38;5;241m=\u001b[39m torch\u001b[38;5;241m.\u001b[39mtensor(sample_data, dtype\u001b[38;5;241m=\u001b[39mtorch\u001b[38;5;241m.\u001b[39mfloat32)\n",
            "\u001b[0;31mNameError\u001b[0m: name 'np' is not defined"
          ]
        }
      ],
      "source": [
        "# Generate sample data and compare quantization methods\n",
        "np.random.seed(42)\n",
        "sample_data = np.linspace(0, 1, 100)\n",
        "input_tensor = torch.tensor(sample_data, dtype=torch.float32)\n",
        "\n",
        "# 2-bit quantization parameters\n",
        "bit_precision = 2\n",
        "adaptive_boundaries = [0.16666667, 0.5, 0.83333333]\n",
        "adaptive_levels = [0.0, 0.33333333, 0.66666667]\n",
        "\n",
        "print(f\"Adaptive boundaries: {adaptive_boundaries}\")\n",
        "print(f\"Adaptive levels: {adaptive_levels}\")\n",
        "\n",
        "# Apply quantization methods\n",
        "uniform_quantized = linear_quantize(input_tensor, bit_precision)\n",
        "adaptive_quantized = adaptive_quantize(input_tensor, bit_precision, adaptive_boundaries, adaptive_levels)\n",
        "\n",
        "# Super-resolution quantization (key innovation)\n",
        "boundary_sets = [\n",
        "    adaptive_boundaries,  # Reference boundaries\n",
        "    [0.15, 0.51, 0.84]   # Variant with device variations\n",
        "]\n",
        "from readc_quantizer import super_resolution_quantize\n",
        "sr_quantized = super_resolution_quantize(input_tensor, bit_precision, boundary_sets, adaptive_levels)\n",
        "\n",
        "# Visualize results\n",
        "plt.figure(figsize=(18, 6))\n",
        "\n",
        "plt.subplot(1, 3, 1)\n",
        "plt.plot(sample_data, uniform_quantized.numpy(), 'ro', label='Uniform Quantization', markersize=4)\n",
        "plt.plot(sample_data, sample_data, 'k--', alpha=0.5, label='Original')\n",
        "plt.xlabel('Input')\n",
        "plt.ylabel('Output')\n",
        "plt.title('Uniform Quantization')\n",
        "plt.legend()\n",
        "plt.grid(True, alpha=0.3)\n",
        "\n",
        "plt.subplot(1, 3, 2)\n",
        "plt.plot(sample_data, adaptive_quantized.numpy(), 'bo', label='Adaptive Quantization', markersize=4)\n",
        "plt.plot(sample_data, sample_data, 'k--', alpha=0.5, label='Original')\n",
        "plt.xlabel('Input')\n",
        "plt.ylabel('Output')\n",
        "plt.title('Adaptive Quantization')\n",
        "plt.legend()\n",
        "plt.grid(True, alpha=0.3)\n",
        "\n",
        "plt.subplot(1, 3, 3)\n",
        "plt.plot(sample_data, sr_quantized.numpy(), 'go', label='Super-Resolution', markersize=4)\n",
        "plt.plot(sample_data, sample_data, 'k--', alpha=0.5, label='Original')\n",
        "plt.xlabel('Input')\n",
        "plt.ylabel('Output')\n",
        "plt.title('Super-Resolution Quantization (Key Innovation)')\n",
        "plt.legend()\n",
        "plt.grid(True, alpha=0.3)\n",
        "\n",
        "plt.tight_layout()\n",
        "plt.show()\n",
        "\n",
        "# Calculate and display MSE for comparison\n",
        "mse_uniform = torch.mean((input_tensor - uniform_quantized) ** 2).item()\n",
        "mse_adaptive = torch.mean((input_tensor - adaptive_quantized) ** 2).item()\n",
        "mse_sr = torch.mean((input_tensor - sr_quantized) ** 2).item()\n",
        "\n",
        "print(f\"\\nMean Squared Error Comparison:\")\n",
        "print(f\"Uniform Quantization MSE: {mse_uniform:.6f}\")\n",
        "print(f\"Adaptive Quantization MSE: {mse_adaptive:.6f}\")\n",
        "print(f\"Super-Resolution MSE: {mse_sr:.6f}\")\n",
        "print(f\"Super-Resolution Improvement: {((mse_adaptive - mse_sr) / mse_adaptive * 100):.2f}%\")\n"
      ]
    },
    {
      "cell_type": "code",
      "execution_count": null,
      "metadata": {},
      "outputs": [],
      "source": []
    }
  ],
  "metadata": {
    "kernelspec": {
      "display_name": "neurosim",
      "language": "python",
      "name": "python3"
    },
    "language_info": {
      "codemirror_mode": {
        "name": "ipython",
        "version": 3
      },
      "file_extension": ".py",
      "mimetype": "text/x-python",
      "name": "python",
      "nbconvert_exporter": "python",
      "pygments_lexer": "ipython3",
      "version": "3.8.0"
    }
  },
  "nbformat": 4,
  "nbformat_minor": 2
}
